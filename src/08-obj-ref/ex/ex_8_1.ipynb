{
 "cells": [
  {
   "cell_type": "code",
   "execution_count": 1,
   "metadata": {},
   "outputs": [
    {
     "data": {
      "text/plain": [
       "[1, 2, 3, 4]"
      ]
     },
     "execution_count": 1,
     "metadata": {},
     "output_type": "execute_result"
    }
   ],
   "source": [
    "# 8-1\n",
    "a = [1, 2, 3]\n",
    "b = a\n",
    "a.append(4)\n",
    "b"
   ]
  },
  {
   "cell_type": "code",
   "execution_count": 3,
   "metadata": {},
   "outputs": [
    {
     "name": "stdout",
     "output_type": "stream",
     "text": [
      "Gizmo() id: 4569269008\n",
      "Gizmo() id: 4569277792\n"
     ]
    },
    {
     "ename": "TypeError",
     "evalue": "unsupported operand type(s) for *: 'Gizmo' and 'int'",
     "output_type": "error",
     "traceback": [
      "\u001b[0;31m---------------------------------------------------------------------------\u001b[0m",
      "\u001b[0;31mTypeError\u001b[0m                                 Traceback (most recent call last)",
      "\u001b[1;32m/Users/kjs/Desktop/fluent_python/src/08-obj-ref/ex/ex_8_1.ipynb 셀 2\u001b[0m line \u001b[0;36m6\n\u001b[1;32m      <a href='vscode-notebook-cell:/Users/kjs/Desktop/fluent_python/src/08-obj-ref/ex/ex_8_1.ipynb#W1sZmlsZQ%3D%3D?line=2'>3</a>\u001b[0m         \u001b[39mprint\u001b[39m(\u001b[39m'\u001b[39m\u001b[39mGizmo() id: \u001b[39m\u001b[39m%d\u001b[39;00m\u001b[39m'\u001b[39m \u001b[39m%\u001b[39m \u001b[39mid\u001b[39m(\u001b[39mself\u001b[39m))\n\u001b[1;32m      <a href='vscode-notebook-cell:/Users/kjs/Desktop/fluent_python/src/08-obj-ref/ex/ex_8_1.ipynb#W1sZmlsZQ%3D%3D?line=4'>5</a>\u001b[0m x \u001b[39m=\u001b[39m Gizmo()\n\u001b[0;32m----> <a href='vscode-notebook-cell:/Users/kjs/Desktop/fluent_python/src/08-obj-ref/ex/ex_8_1.ipynb#W1sZmlsZQ%3D%3D?line=5'>6</a>\u001b[0m y \u001b[39m=\u001b[39m Gizmo() \u001b[39m*\u001b[39;49m \u001b[39m10\u001b[39;49m\n",
      "\u001b[0;31mTypeError\u001b[0m: unsupported operand type(s) for *: 'Gizmo' and 'int'"
     ]
    }
   ],
   "source": [
    "class Gizmo:\n",
    "    def __init__(self):\n",
    "        print('Gizmo() id: %d' % id(self))\n",
    "    \n",
    "x = Gizmo()\n",
    "y = Gizmo() * 10"
   ]
  },
  {
   "cell_type": "code",
   "execution_count": 4,
   "metadata": {},
   "outputs": [
    {
     "data": {
      "text/plain": [
       "['Gizmo',\n",
       " 'In',\n",
       " 'Out',\n",
       " '_',\n",
       " '_1',\n",
       " '__',\n",
       " '___',\n",
       " '__builtin__',\n",
       " '__builtins__',\n",
       " '__doc__',\n",
       " '__loader__',\n",
       " '__name__',\n",
       " '__package__',\n",
       " '__spec__',\n",
       " '__vsc_ipynb_file__',\n",
       " '_dh',\n",
       " '_i',\n",
       " '_i1',\n",
       " '_i2',\n",
       " '_i3',\n",
       " '_i4',\n",
       " '_ih',\n",
       " '_ii',\n",
       " '_iii',\n",
       " '_oh',\n",
       " 'a',\n",
       " 'b',\n",
       " 'exit',\n",
       " 'get_ipython',\n",
       " 'open',\n",
       " 'quit',\n",
       " 'x']"
      ]
     },
     "execution_count": 4,
     "metadata": {},
     "output_type": "execute_result"
    }
   ],
   "source": [
    "dir()"
   ]
  },
  {
   "cell_type": "code",
   "execution_count": 5,
   "metadata": {},
   "outputs": [
    {
     "name": "stdout",
     "output_type": "stream",
     "text": [
      "True\n",
      "{'name': 'Charles L. Dodgson', 'born': 1832, 'balance': 950}\n"
     ]
    }
   ],
   "source": [
    "# 8-3\n",
    "charles = {'name': 'Charles L. Dodgson', 'born': 1832}\n",
    "lewis = charles\n",
    "print(lewis is charles)\n",
    "id(charles), id(lewis)\n",
    "lewis['balance'] = 950\n",
    "print(charles)"
   ]
  },
  {
   "cell_type": "code",
   "execution_count": 6,
   "metadata": {},
   "outputs": [
    {
     "name": "stdout",
     "output_type": "stream",
     "text": [
      "True\n",
      "True\n"
     ]
    }
   ],
   "source": [
    "# 8-4\n",
    "alex = {'name': 'Charles L. Dodgson', 'born': 1832, 'balance': 950}\n",
    "print(alex == charles)\n",
    "print(alex is not charles)\n"
   ]
  },
  {
   "cell_type": "code",
   "execution_count": 7,
   "metadata": {},
   "outputs": [
    {
     "name": "stdout",
     "output_type": "stream",
     "text": [
      "True\n",
      "4570550528\n",
      "(1, 2, [30, 40, 99])\n",
      "4570550528\n",
      "False\n"
     ]
    }
   ],
   "source": [
    "# 8-5\n",
    "t1 = (1, 2, [30, 40])\n",
    "t2 = (1, 2, [30, 40])\n",
    "print(t1 == t2)\n",
    "print(id(t1[-1]))\n",
    "\n",
    "t1[-1].append(99)\n",
    "print(t1)\n",
    "print(id(t1[-1]))\n",
    "print(t1 == t2)"
   ]
  },
  {
   "cell_type": "code",
   "execution_count": 9,
   "metadata": {},
   "outputs": [
    {
     "name": "stdout",
     "output_type": "stream",
     "text": [
      "l1:  [3, [66, 44], (7, 8, 9), 100]\n",
      "l2:  [3, [66, 44], (7, 8, 9)]\n",
      "l1 : [3, [66, 44, 33, 22], (7, 8, 9), 100]\n",
      "l2 : [3, [66, 44, 33, 22], (7, 8, 9, 10, 11)]\n"
     ]
    }
   ],
   "source": [
    "# 8-6\n",
    "l1 = [3, [66, 55, 44], (7, 8, 9)]\n",
    "l2 = list(l1)\n",
    "l1.append(100)\n",
    "l1[1].remove(55)\n",
    "\n",
    "# 8-7\n",
    "print('l1: ', l1)\n",
    "print('l2: ', l2)\n",
    "\n",
    "l2[1] += [33, 22]\n",
    "l2[2] += (10, 11)\n",
    "print('l1 :', l1)\n",
    "print('l2 :', l2)"
   ]
  },
  {
   "cell_type": "code",
   "execution_count": 18,
   "metadata": {},
   "outputs": [],
   "source": [
    "# 8-8\n",
    "class Bus:\n",
    "\n",
    "    def __init__(self, passengers=None):\n",
    "        if passengers is None:\n",
    "            self.passengers = []\n",
    "        else:\n",
    "            self.passengers = list(passengers)\n",
    "        \n",
    "    def pick(self, name):\n",
    "        self.passengers.append(name)\n",
    "\n",
    "    def drop(self, name):\n",
    "        self.passengers.remove(name)"
   ]
  },
  {
   "cell_type": "code",
   "execution_count": 21,
   "metadata": {},
   "outputs": [
    {
     "name": "stdout",
     "output_type": "stream",
     "text": [
      "4567401664 4567403632 4567408144\n",
      "['Bill', 'claire', 'David']\n",
      "4570472576 4570472576 4572237248\n",
      "['Alice', 'Bill', 'claire', 'David']\n"
     ]
    }
   ],
   "source": [
    "# 8-9\n",
    "import copy\n",
    "bus1 = Bus(['Alice', 'Bill', 'claire', 'David'])\n",
    "bus2 = copy.copy(bus1)\n",
    "bus3 = copy.deepcopy(bus1)\n",
    "print(id(bus1), id(bus2), id(bus3))\n",
    "\n",
    "bus1.drop('Alice')\n",
    "print(bus2.passengers)\n",
    "print(id(bus1.passengers), id(bus2.passengers), id(bus3.passengers))\n",
    "print(bus3.passengers)"
   ]
  },
  {
   "cell_type": "code",
   "execution_count": 22,
   "metadata": {},
   "outputs": [
    {
     "name": "stdout",
     "output_type": "stream",
     "text": [
      "[10, 20, [[...], 30]]\n",
      "[10, 20, [[...], 30]]\n"
     ]
    }
   ],
   "source": [
    "# 8-10\n",
    "a = [10, 20]\n",
    "b = [a, 30]\n",
    "a.append(b)\n",
    "print(a)\n",
    "\n",
    "from copy import deepcopy\n",
    "c = deepcopy(a)\n",
    "print(c)"
   ]
  },
  {
   "cell_type": "code",
   "execution_count": 23,
   "metadata": {},
   "outputs": [
    {
     "name": "stdout",
     "output_type": "stream",
     "text": [
      "3\n",
      "1 2\n",
      "[1, 2, 3, 4]\n",
      "[1, 2, 3, 4] [3, 4]\n",
      "(10, 20, 30, 40)\n",
      "(10, 20) (30, 40)\n"
     ]
    }
   ],
   "source": [
    "# 8-11\n",
    "def f(a, b):\n",
    "    a += b\n",
    "    return a\n",
    "\n",
    "x = 1\n",
    "y = 2\n",
    "print(f(x, y))\n",
    "print(x, y)\n",
    "\n",
    "a = [1, 2]\n",
    "b = [3, 4]\n",
    "print(f(a, b))\n",
    "print(a, b)\n",
    "\n",
    "t = (10, 20)\n",
    "u = (30, 40)\n",
    "print(f(t, u))\n",
    "print(t, u)\n"
   ]
  },
  {
   "cell_type": "code",
   "execution_count": 24,
   "metadata": {},
   "outputs": [
    {
     "name": "stdout",
     "output_type": "stream",
     "text": [
      "['Alice', 'Bill']\n",
      "['Bill', 'Charlie']\n",
      "['Carrie']\n",
      "['Carrie']\n",
      "['Carrie', 'Dave']\n",
      "True\n",
      "['Bill', 'Charlie']\n"
     ]
    }
   ],
   "source": [
    "# 8-12\n",
    "class HauntedBus:\n",
    "    \"\"\"A bus model haunted by ghost passengers\"\"\"\n",
    "\n",
    "    def __init__(self, passengers=[]):  # <1>\n",
    "        self.passengers = passengers  # <2>\n",
    "\n",
    "    def pick(self, name):\n",
    "        self.passengers.append(name)  # <3>\n",
    "\n",
    "    def drop(self, name):\n",
    "        self.passengers.remove(name)\n",
    "\n",
    "bus1 = HauntedBus(['Alice', 'Bill'])\n",
    "print(bus1.passengers)\n",
    "\n",
    "bus1.pick('Charlie')\n",
    "bus1.drop('Alice')\n",
    "print(bus1.passengers)\n",
    "\n",
    "bus2 = HauntedBus()\n",
    "bus2.pick('Carrie')\n",
    "print(bus2.passengers)\n",
    "\n",
    "bus3 = HauntedBus()\n",
    "print(bus3.passengers)\n",
    "\n",
    "bus3.pick('Dave')\n",
    "print(bus2.passengers)\n",
    "print(bus2.passengers is bus3.passengers)\n",
    "print(bus1.passengers)"
   ]
  },
  {
   "cell_type": "code",
   "execution_count": 25,
   "metadata": {},
   "outputs": [
    {
     "name": "stdout",
     "output_type": "stream",
     "text": [
      "['Sue', 'Maya', 'Diana']\n"
     ]
    }
   ],
   "source": [
    "# 8-14 ~ 8-15\n",
    "\n",
    "class TwilightBus:\n",
    "    \"\"\"A bus model that makes passengers vanish\"\"\"\n",
    "\n",
    "    def __init__(self, passengers=None):\n",
    "        if passengers is None:\n",
    "            self.passengers = []  # <1>\n",
    "        else:\n",
    "            self.passengers = passengers  #<2>\n",
    "\n",
    "    def pick(self, name):\n",
    "        self.passengers.append(name)\n",
    "\n",
    "    def drop(self, name):\n",
    "        self.passengers.remove(name)  # <3>\n",
    "\n",
    "\n",
    "basketball_team = ['Sue', 'Tina', 'Maya', 'Diana', 'Pat']\n",
    "bus = TwilightBus(basketball_team)\n",
    "bus.drop('Tina')\n",
    "bus.drop('Pat')\n",
    "print(basketball_team)"
   ]
  },
  {
   "cell_type": "code",
   "execution_count": 27,
   "metadata": {},
   "outputs": [
    {
     "name": "stdout",
     "output_type": "stream",
     "text": [
      "Gone with the wind...\n",
      "True\n",
      "True\n",
      "Gone with the wind...\n",
      "False\n"
     ]
    }
   ],
   "source": [
    "# 8-16\n",
    "import weakref\n",
    "s1 = {1, 2, 3}\n",
    "s2 = s1\n",
    "def bye():\n",
    "    print('Gone with the wind...')\n",
    "\n",
    "ender = weakref.finalize(s1, bye)\n",
    "print(ender.alive)\n",
    "\n",
    "del s1\n",
    "print(ender.alive)\n",
    "\n",
    "s2 = 'spam'\n",
    "print(ender.alive)\n"
   ]
  },
  {
   "cell_type": "code",
   "execution_count": 28,
   "metadata": {},
   "outputs": [
    {
     "name": "stdout",
     "output_type": "stream",
     "text": [
      "<weakref at 0x110791940; to 'set' at 0x110733ca0>\n",
      "{0, 1}\n",
      "None\n",
      "True\n",
      "True\n"
     ]
    }
   ],
   "source": [
    "# 8-17\n",
    "import weakref\n",
    "a_set = {0, 1}\n",
    "wref = weakref.ref(a_set)\n",
    "print(wref)\n",
    "print(wref())\n",
    "a_set = {2, 3, 4}\n",
    "print(wref())\n",
    "print(wref() is None)\n",
    "print(wref() is None)\n",
    "\n"
   ]
  },
  {
   "cell_type": "code",
   "execution_count": 30,
   "metadata": {},
   "outputs": [],
   "source": [
    "# 8-18\n",
    "class Cheese:\n",
    "\n",
    "    def __init__(self, kind):\n",
    "        self.kind = kind\n",
    "\n",
    "    def __repr__(self):\n",
    "        return 'Cheese(%r)' % self.kind"
   ]
  },
  {
   "cell_type": "code",
   "execution_count": 31,
   "metadata": {},
   "outputs": [
    {
     "name": "stdout",
     "output_type": "stream",
     "text": [
      "['Brie', 'Parmesan', 'Red Leicester', 'Tilsit']\n",
      "['Parmesan']\n",
      "[]\n"
     ]
    }
   ],
   "source": [
    "# 8-19\n",
    "import weakref\n",
    "stock = weakref.WeakValueDictionary()\n",
    "catalog = [Cheese('Red Leicester'), Cheese('Tilsit'), Cheese('Brie'), Cheese('Parmesan')]\n",
    "\n",
    "for cheese in catalog:\n",
    "     stock[cheese.kind] = cheese\n",
    "\n",
    "print(sorted(stock.keys()))\n",
    "del catalog\n",
    "print(sorted(stock.keys()))\n",
    "del cheese\n",
    "print(sorted(stock.keys()))"
   ]
  },
  {
   "cell_type": "code",
   "execution_count": 32,
   "metadata": {},
   "outputs": [
    {
     "name": "stdout",
     "output_type": "stream",
     "text": [
      "True\n",
      "True\n"
     ]
    }
   ],
   "source": [
    "# 8-20\n",
    "t1 = (1, 2, 3)\n",
    "t2 = tuple(t1)\n",
    "print(t2 is t1)\n",
    "\n",
    "t3 = t1[:]\n",
    "print(t3 is t1)"
   ]
  },
  {
   "cell_type": "code",
   "execution_count": 33,
   "metadata": {},
   "outputs": [
    {
     "name": "stdout",
     "output_type": "stream",
     "text": [
      "False\n",
      "True\n"
     ]
    }
   ],
   "source": [
    "# 8-21\n",
    "t1 = (1, 2, 3)\n",
    "t3 = (1, 2, 3)\n",
    "print(t3 is t1)\n",
    "\n",
    "s1 = 'ABC'\n",
    "s2 = 'ABC'\n",
    "print(s1 is s2)"
   ]
  }
 ],
 "metadata": {
  "kernelspec": {
   "display_name": "env",
   "language": "python",
   "name": "python3"
  },
  "language_info": {
   "codemirror_mode": {
    "name": "ipython",
    "version": 3
   },
   "file_extension": ".py",
   "mimetype": "text/x-python",
   "name": "python",
   "nbconvert_exporter": "python",
   "pygments_lexer": "ipython3",
   "version": "3.10.9"
  }
 },
 "nbformat": 4,
 "nbformat_minor": 2
}
