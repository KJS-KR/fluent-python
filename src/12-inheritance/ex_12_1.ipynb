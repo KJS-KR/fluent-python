{
 "cells": [
  {
   "cell_type": "code",
   "execution_count": 6,
   "metadata": {},
   "outputs": [
    {
     "name": "stdout",
     "output_type": "stream",
     "text": [
      "{'one': 1}\n",
      "{'one': 1, 'two': 2}\n",
      "{'one': 1, 'two': 2, 'three': 3}\n"
     ]
    }
   ],
   "source": [
    "# 12-1\n",
    "\n",
    "class DoppelDict(dict):\n",
    "    def __setitem__(self, key, value):\n",
    "        super().__setitem__(key, [value] * 2)\n",
    "\n",
    "dd = DoppelDict(one=1)\n",
    "print(dd)\n",
    "\n",
    "dd['two'] = 2\n",
    "print(dd)\n",
    "\n",
    "dd.update(three=3)\n",
    "print(dd)"
   ]
  },
  {
   "cell_type": "code",
   "execution_count": 5,
   "metadata": {},
   "outputs": [
    {
     "name": "stdout",
     "output_type": "stream",
     "text": [
      "사람 클래스의 메소드입니다.\n",
      "사람의 나이는 :  나이\n",
      "사람의 이름은 :  james\n"
     ]
    }
   ],
   "source": []
  },
  {
   "cell_type": "code",
   "execution_count": 7,
   "metadata": {},
   "outputs": [
    {
     "name": "stdout",
     "output_type": "stream",
     "text": [
      "42\n",
      "foo\n",
      "{'a': 'foo'}\n"
     ]
    }
   ],
   "source": [
    "# 12-2\n",
    "\n",
    "class AnswerDict(dict):\n",
    "    def __getitem__(self, key):\n",
    "        return 42\n",
    "    \n",
    "ad = AnswerDict(a='foo')\n",
    "print(ad['a'])\n",
    "\n",
    "d = {}\n",
    "d.update(ad)\n",
    "print(d['a'])\n",
    "print(d)"
   ]
  },
  {
   "cell_type": "code",
   "execution_count": 9,
   "metadata": {},
   "outputs": [
    {
     "name": "stdout",
     "output_type": "stream",
     "text": [
      "{'one': [1, 1]}\n",
      "{'one': [1, 1], 'two': [2, 2]}\n",
      "{'one': [1, 1], 'two': [2, 2], 'three': [3, 3]}\n",
      "42\n",
      "42\n",
      "{'a': 42}\n"
     ]
    }
   ],
   "source": [
    "# 12-3\n",
    "\n",
    "import collections\n",
    "\n",
    "class DoppelDict2(collections.UserDict):\n",
    "    def __setitem__(self, key, value):\n",
    "        super().__setitem__(key, [value] * 2)\n",
    "\n",
    "dd = DoppelDict2(one=1)\n",
    "print(dd)\n",
    "\n",
    "dd['two'] = 2\n",
    "print(dd)\n",
    "\n",
    "dd.update(three=3)\n",
    "print(dd)\n",
    "\n",
    "class AnswerDict2(collections.UserDict):\n",
    "    def __getitem__(self, key):\n",
    "        return 42\n",
    "    \n",
    "ad = AnswerDict2(a='foo')\n",
    "print(ad['a'])\n",
    "\n",
    "d = {}\n",
    "d.update(ad)\n",
    "print(d['a'])\n",
    "print(d)"
   ]
  },
  {
   "cell_type": "code",
   "execution_count": 14,
   "metadata": {},
   "outputs": [],
   "source": [
    "# 12-4\n",
    "\n",
    "class A:\n",
    "    def ping(self):\n",
    "        print('ping11:', self)\n",
    "\n",
    "\n",
    "class B(A):\n",
    "    def pong(self):\n",
    "        print('pong:', self)\n",
    "\n",
    "\n",
    "class C(A):\n",
    "    def pong(self):\n",
    "        print('PONG:', self)\n",
    "\n",
    "\n",
    "class D(B, C):\n",
    "\n",
    "    def ping(self):\n",
    "        super().ping()\n",
    "        print('post-ping:', self)\n",
    "\n",
    "    def pingpong(self):\n",
    "        self.ping()\n",
    "        super().ping()\n",
    "        self.pong()\n",
    "        super().pong()\n",
    "        C.pong(self)"
   ]
  },
  {
   "cell_type": "code",
   "execution_count": 12,
   "metadata": {},
   "outputs": [
    {
     "name": "stdout",
     "output_type": "stream",
     "text": [
      "pong: <__main__.D object at 0x10641f2b0>\n",
      "PONG: <__main__.D object at 0x10641f2b0>\n"
     ]
    }
   ],
   "source": [
    "# 12-5\n",
    "\n",
    "d = D()\n",
    "d.pong()\n",
    "C.pong(d)"
   ]
  },
  {
   "cell_type": "code",
   "execution_count": 15,
   "metadata": {},
   "outputs": [
    {
     "name": "stdout",
     "output_type": "stream",
     "text": [
      "ping11: <__main__.D object at 0x106704bb0>\n",
      "post-ping: <__main__.D object at 0x106704bb0>\n"
     ]
    }
   ],
   "source": [
    "# 12-6\n",
    "\n",
    "d = D()\n",
    "d.ping()"
   ]
  },
  {
   "cell_type": "code",
   "execution_count": 16,
   "metadata": {},
   "outputs": [
    {
     "name": "stdout",
     "output_type": "stream",
     "text": [
      "ping11: <__main__.D object at 0x1066017e0>\n",
      "post-ping: <__main__.D object at 0x1066017e0>\n",
      "ping11: <__main__.D object at 0x1066017e0>\n",
      "pong: <__main__.D object at 0x1066017e0>\n",
      "pong: <__main__.D object at 0x1066017e0>\n",
      "PONG: <__main__.D object at 0x1066017e0>\n"
     ]
    }
   ],
   "source": [
    "# 12-7\n",
    "\n",
    "d = D()\n",
    "d.pingpong()"
   ]
  },
  {
   "cell_type": "code",
   "execution_count": 19,
   "metadata": {},
   "outputs": [],
   "source": [
    "import collections\n",
    "\n",
    "Card = collections.namedtuple('Card', ['rank', 'suit'])\n",
    "\n",
    "class FrenchDeck2(collections.abc.MutableSequence):\n",
    "    ranks = [str(n) for n in range(2, 11)] + list('JQKA')\n",
    "    suits = 'spades diamonds clubs hearts'.split()\n",
    "\n",
    "    def __init__(self):\n",
    "        self._cards = [Card(rank, suit) for suit in self.suits\n",
    "                                        for rank in self.ranks]\n",
    "\n",
    "    def __len__(self):\n",
    "        return len(self._cards)\n",
    "\n",
    "    def __getitem__(self, position):\n",
    "        return self._cards[position]\n",
    "\n",
    "    def __setitem__(self, position, value):  # <1>\n",
    "        self._cards[position] = value\n",
    "\n",
    "    def __delitem__(self, position):  # <2>\n",
    "        del self._cards[position]\n",
    "\n",
    "    def insert(self, position, value):  # <3>\n",
    "        self._cards.insert(position, value)\n"
   ]
  },
  {
   "cell_type": "code",
   "execution_count": 21,
   "metadata": {},
   "outputs": [
    {
     "name": "stdout",
     "output_type": "stream",
     "text": [
      "(<class 'bool'>, <class 'int'>, <class 'object'>)\n",
      "bool, int, object\n",
      "FrenchDeck2, MutableSequence, Sequence, Reversible, Collection, Sized, Iterable, Container, object\n",
      "Integral, Rational, Real, Complex, Number, object\n",
      "BytesIO, _BufferedIOBase, _IOBase, object\n",
      "TextIOBase, _TextIOBase, IOBase, _IOBase, object\n"
     ]
    }
   ],
   "source": [
    "# 12-8\n",
    "\n",
    "print(bool.__mro__)\n",
    "\n",
    "def print_mro(cls):\n",
    "    print(', '.join(c.__name__ for c in cls.__mro__))\n",
    "\n",
    "print_mro(bool)\n",
    "print_mro(FrenchDeck2)\n",
    "\n",
    "import numbers\n",
    "print_mro(numbers.Integral)\n",
    "\n",
    "import io\n",
    "print_mro(io.BytesIO)\n",
    "print_mro(io.TextIOBase)"
   ]
  }
 ],
 "metadata": {
  "kernelspec": {
   "display_name": "env",
   "language": "python",
   "name": "python3"
  },
  "language_info": {
   "codemirror_mode": {
    "name": "ipython",
    "version": 3
   },
   "file_extension": ".py",
   "mimetype": "text/x-python",
   "name": "python",
   "nbconvert_exporter": "python",
   "pygments_lexer": "ipython3",
   "version": "3.10.9"
  }
 },
 "nbformat": 4,
 "nbformat_minor": 2
}
