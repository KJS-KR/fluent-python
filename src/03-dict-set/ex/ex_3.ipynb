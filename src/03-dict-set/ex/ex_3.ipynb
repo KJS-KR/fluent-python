{
 "cells": [
  {
   "cell_type": "code",
   "execution_count": 1,
   "metadata": {},
   "outputs": [
    {
     "name": "stdout",
     "output_type": "stream",
     "text": [
      "-3907003130834322577\n"
     ]
    },
    {
     "ename": "TypeError",
     "evalue": "unhashable type: 'list'",
     "output_type": "error",
     "traceback": [
      "\u001b[0;31m---------------------------------------------------------------------------\u001b[0m",
      "\u001b[0;31mTypeError\u001b[0m                                 Traceback (most recent call last)",
      "\u001b[1;32m/Users/kjs/Desktop/fluent_python/src/03-dict-set/ex/ex_3.ipynb 셀 1\u001b[0m line \u001b[0;36m6\n\u001b[1;32m      <a href='vscode-notebook-cell:/Users/kjs/Desktop/fluent_python/src/03-dict-set/ex/ex_3.ipynb#W0sZmlsZQ%3D%3D?line=2'>3</a>\u001b[0m \u001b[39mprint\u001b[39m(\u001b[39mhash\u001b[39m(tt))\n\u001b[1;32m      <a href='vscode-notebook-cell:/Users/kjs/Desktop/fluent_python/src/03-dict-set/ex/ex_3.ipynb#W0sZmlsZQ%3D%3D?line=4'>5</a>\u001b[0m tl \u001b[39m=\u001b[39m (\u001b[39m1\u001b[39m, \u001b[39m2\u001b[39m, [\u001b[39m30\u001b[39m, \u001b[39m40\u001b[39m])\n\u001b[0;32m----> <a href='vscode-notebook-cell:/Users/kjs/Desktop/fluent_python/src/03-dict-set/ex/ex_3.ipynb#W0sZmlsZQ%3D%3D?line=5'>6</a>\u001b[0m \u001b[39mprint\u001b[39m(\u001b[39mhash\u001b[39;49m(tl))\n",
      "\u001b[0;31mTypeError\u001b[0m: unhashable type: 'list'"
     ]
    }
   ],
   "source": [
    "# *\n",
    "tt = (1, 2, (30, 40))\n",
    "print(hash(tt))\n",
    "\n",
    "tl = (1, 2, [30, 40])\n",
    "print(hash(tl))"
   ]
  },
  {
   "cell_type": "code",
   "execution_count": 2,
   "metadata": {},
   "outputs": [
    {
     "data": {
      "text/plain": [
       "5149391500123939311"
      ]
     },
     "execution_count": 2,
     "metadata": {},
     "output_type": "execute_result"
    }
   ],
   "source": [
    "# *\n",
    "tf = (1, 2, frozenset([30, 40]))\n",
    "hash(tf)"
   ]
  },
  {
   "cell_type": "code",
   "execution_count": 3,
   "metadata": {},
   "outputs": [
    {
     "data": {
      "text/plain": [
       "True"
      ]
     },
     "execution_count": 3,
     "metadata": {},
     "output_type": "execute_result"
    }
   ],
   "source": [
    "# *\n",
    "a = dict(one=1, two=2, three=3)\n",
    "b = {'one': 1, 'two': 2, 'three': 3}\n",
    "c = dict(zip(['one', 'two', 'three'], [1, 2, 3]))\n",
    "d = dict([('two', 2), ('one', 1), ('three', 3)])\n",
    "e = dict({'three': 3, 'one': 1, 'two': 2})\n",
    "\n",
    "a == b == c == d == e"
   ]
  },
  {
   "cell_type": "code",
   "execution_count": 6,
   "metadata": {},
   "outputs": [
    {
     "name": "stdout",
     "output_type": "stream",
     "text": [
      "{'China': 86, 'India': 91, 'United States': 1, 'Indonesia': 62, 'Brazil': 55, 'Pakistan': 92, 'Bangladesh': 880, 'Nigeria': 234, 'Russia': 7, 'Japan': 81}\n",
      "{1: 'UNITED STATES', 62: 'INDONESIA', 55: 'BRAZIL', 7: 'RUSSIA'}\n"
     ]
    }
   ],
   "source": [
    "# 3-1\n",
    "DIAL_CODES = [\n",
    "        (86, 'China'),\n",
    "        (91, 'India'),\n",
    "        (1, 'United States'),\n",
    "        (62, 'Indonesia'),\n",
    "        (55, 'Brazil'),\n",
    "        (92, 'Pakistan'),\n",
    "        (880, 'Bangladesh'),\n",
    "        (234, 'Nigeria'),\n",
    "        (7, 'Russia'),\n",
    "        (81, 'Japan'),\n",
    "    ]\n",
    "\n",
    "country_code = {country: code for code, country in DIAL_CODES}\n",
    "print(country_code)\n",
    "\n",
    "print({code : country.upper() for country, code in country_code.items() if code < 66})"
   ]
  },
  {
   "cell_type": "code",
   "execution_count": 19,
   "metadata": {},
   "outputs": [
    {
     "name": "stdout",
     "output_type": "stream",
     "text": [
      "0 [(12, 17), (13, 22)]\n",
      "added [(11, 15)]\n",
      "after [(4, 1)]\n",
      "an [(1, 30)]\n",
      "app [(15, 40), (17, 5)]\n",
      "as [(15, 37)]\n",
      "avoid [(3, 55)]\n",
      "back [(11, 21)]\n",
      "by [(11, 26)]\n",
      "can [(3, 51)]\n",
      "cwd [(4, 20)]\n",
      "CWD [(10, 18)]\n",
      "del [(13, 9)]\n",
      "doing [(3, 61)]\n",
      "Entry [(1, 4)]\n",
      "for [(1, 16)]\n",
      "from [(3, 18), (4, 24), (10, 22), (15, 5)]\n",
      "if [(9, 1), (12, 5)]\n",
      "import [(7, 1), (15, 20)]\n",
      "imports [(3, 67)]\n",
      "init_path [(11, 49)]\n",
      "InteractiveShellApp [(11, 29)]\n",
      "ipykernel [(3, 27), (15, 10)]\n",
      "IPython [(1, 33)]\n",
      "is [(3, 6), (11, 12)]\n",
      "kernel [(1, 41)]\n",
      "kernelapp [(15, 27)]\n",
      "launching [(1, 20)]\n",
      "launch_new_instance [(17, 9)]\n",
      "load [(10, 45)]\n",
      "package [(3, 37)]\n",
      "path [(4, 33), (10, 31), (12, 12), (13, 17)]\n",
      "point [(1, 10)]\n",
      "Remove [(10, 7)]\n",
      "removing [(4, 7)]\n",
      "separate [(3, 9)]\n",
      "so [(3, 45)]\n",
      "stuff [(10, 50)]\n",
      "sys [(4, 29), (7, 8), (10, 27), (12, 8), (13, 13)]\n",
      "the [(3, 23), (4, 16), (10, 14)]\n",
      "This [(3, 1), (11, 7)]\n",
      "until [(3, 75)]\n",
      "we [(3, 48), (10, 42)]\n",
      "while [(10, 36)]\n",
      "__main__ [(9, 17)]\n",
      "__name__ [(9, 4)]\n"
     ]
    }
   ],
   "source": [
    "# 3-2\n",
    "\n",
    "import sys\n",
    "import re\n",
    "\n",
    "WORD_RE = re.compile('\\w+')\n",
    "\n",
    "index = {}\n",
    "with open(sys.argv[0], encoding='utf-8') as fp:\n",
    "    for line_no, line in enumerate(fp, 1):\n",
    "        for match in WORD_RE.finditer(line):\n",
    "            word = match.group()\n",
    "            column_no = match.start()+1\n",
    "            location = (line_no, column_no)\n",
    "            # this is ugly; coded like this to make a point\n",
    "            occurrences = index.get(word, [])  # <1>\n",
    "            occurrences.append(location)       # <2>\n",
    "            index[word] = occurrences          # <3>\n",
    "\n",
    "# print in alphabetical order\n",
    "for word in sorted(index, key=str.upper):  # <4>\n",
    "    print(word, index[word])"
   ]
  },
  {
   "cell_type": "code",
   "execution_count": 22,
   "metadata": {},
   "outputs": [
    {
     "name": "stdout",
     "output_type": "stream",
     "text": [
      "0 [(12, 17), (13, 22)]\n",
      "added [(11, 15)]\n",
      "after [(4, 1)]\n",
      "an [(1, 30)]\n",
      "app [(15, 40), (17, 5)]\n",
      "as [(15, 37)]\n",
      "avoid [(3, 55)]\n",
      "back [(11, 21)]\n",
      "by [(11, 26)]\n",
      "can [(3, 51)]\n",
      "cwd [(4, 20)]\n",
      "CWD [(10, 18)]\n",
      "del [(13, 9)]\n",
      "doing [(3, 61)]\n",
      "Entry [(1, 4)]\n",
      "for [(1, 16)]\n",
      "from [(3, 18), (4, 24), (10, 22), (15, 5)]\n",
      "if [(9, 1), (12, 5)]\n",
      "import [(7, 1), (15, 20)]\n",
      "imports [(3, 67)]\n",
      "init_path [(11, 49)]\n",
      "InteractiveShellApp [(11, 29)]\n",
      "ipykernel [(3, 27), (15, 10)]\n",
      "IPython [(1, 33)]\n",
      "is [(3, 6), (11, 12)]\n",
      "kernel [(1, 41)]\n",
      "kernelapp [(15, 27)]\n",
      "launching [(1, 20)]\n",
      "launch_new_instance [(17, 9)]\n",
      "load [(10, 45)]\n",
      "package [(3, 37)]\n",
      "path [(4, 33), (10, 31), (12, 12), (13, 17)]\n",
      "point [(1, 10)]\n",
      "Remove [(10, 7)]\n",
      "removing [(4, 7)]\n",
      "separate [(3, 9)]\n",
      "so [(3, 45)]\n",
      "stuff [(10, 50)]\n",
      "sys [(4, 29), (7, 8), (10, 27), (12, 8), (13, 13)]\n",
      "the [(3, 23), (4, 16), (10, 14)]\n",
      "This [(3, 1), (11, 7)]\n",
      "until [(3, 75)]\n",
      "we [(3, 48), (10, 42)]\n",
      "while [(10, 36)]\n",
      "__main__ [(9, 17)]\n",
      "__name__ [(9, 4)]\n"
     ]
    }
   ],
   "source": [
    "# 3-4\n",
    "import sys\n",
    "import re\n",
    "\n",
    "WORD_RE = re.compile(r'\\w+')\n",
    "\n",
    "index = {}\n",
    "with open(sys.argv[0], encoding='utf-8') as fp:\n",
    "    for line_no, line in enumerate(fp, 1):\n",
    "        for match in WORD_RE.finditer(line):\n",
    "            word = match.group()\n",
    "            column_no = match.start()+1\n",
    "            location = (line_no, column_no)\n",
    "            index.setdefault(word, []).append(location)  # <1>\n",
    "\n",
    "# print in alphabetical order\n",
    "for word in sorted(index, key=str.upper):\n",
    "    print(word, index[word])"
   ]
  },
  {
   "cell_type": "code",
   "execution_count": 29,
   "metadata": {},
   "outputs": [
    {
     "name": "stdout",
     "output_type": "stream",
     "text": [
      "0 [(12, 17), (13, 22)]\n",
      "added [(11, 15)]\n",
      "after [(4, 1)]\n",
      "an [(1, 30)]\n",
      "app [(15, 40), (17, 5)]\n",
      "as [(15, 37)]\n",
      "avoid [(3, 55)]\n",
      "back [(11, 21)]\n",
      "by [(11, 26)]\n",
      "can [(3, 51)]\n",
      "cwd [(4, 20)]\n",
      "CWD [(10, 18)]\n",
      "del [(13, 9)]\n",
      "doing [(3, 61)]\n",
      "Entry [(1, 4)]\n",
      "for [(1, 16)]\n",
      "from [(3, 18), (4, 24), (10, 22), (15, 5)]\n",
      "if [(9, 1), (12, 5)]\n",
      "import [(7, 1), (15, 20)]\n",
      "imports [(3, 67)]\n",
      "init_path [(11, 49)]\n",
      "InteractiveShellApp [(11, 29)]\n",
      "ipykernel [(3, 27), (15, 10)]\n",
      "IPython [(1, 33)]\n",
      "is [(3, 6), (11, 12)]\n",
      "kernel [(1, 41)]\n",
      "kernelapp [(15, 27)]\n",
      "launching [(1, 20)]\n",
      "launch_new_instance [(17, 9)]\n",
      "load [(10, 45)]\n",
      "package [(3, 37)]\n",
      "path [(4, 33), (10, 31), (12, 12), (13, 17)]\n",
      "point [(1, 10)]\n",
      "Remove [(10, 7)]\n",
      "removing [(4, 7)]\n",
      "separate [(3, 9)]\n",
      "so [(3, 45)]\n",
      "stuff [(10, 50)]\n",
      "sys [(4, 29), (7, 8), (10, 27), (12, 8), (13, 13)]\n",
      "the [(3, 23), (4, 16), (10, 14)]\n",
      "This [(3, 1), (11, 7)]\n",
      "until [(3, 75)]\n",
      "we [(3, 48), (10, 42)]\n",
      "while [(10, 36)]\n",
      "__main__ [(9, 17)]\n",
      "__name__ [(9, 4)]\n"
     ]
    }
   ],
   "source": [
    "# 3-5\n",
    "import sys\n",
    "\n",
    "import re\n",
    "import collections\n",
    "\n",
    "WORD_RE = re.compile(r'\\w+')\n",
    "\n",
    "index = collections.defaultdict(list)\n",
    "with open(sys.argv[0], encoding='utf-8') as fp:\n",
    "    for line_no, line in enumerate(fp, 1):\n",
    "        for match in WORD_RE.finditer(line):\n",
    "            # print(match)\n",
    "            word = match.group()\n",
    "            # print(word)\n",
    "            column_no = match.start() + 1\n",
    "            location = (line_no, column_no)\n",
    "            index[word].append(location)\n",
    "\n",
    "for word in sorted(index, key=str.upper):\n",
    "    print(word, index[word])\n"
   ]
  },
  {
   "cell_type": "code",
   "execution_count": 33,
   "metadata": {},
   "outputs": [
    {
     "name": "stdout",
     "output_type": "stream",
     "text": [
      "two\n",
      "four\n",
      "two\n",
      "four\n",
      "N/A\n",
      "True\n",
      "False\n"
     ]
    }
   ],
   "source": [
    "# 3-6\n",
    "import collections\n",
    "\n",
    "class StrKeyDict(collections.UserDict):  # <1>\n",
    "\n",
    "    def __missing__(self, key):  # <2>\n",
    "        if isinstance(key, str):\n",
    "            raise KeyError(key)\n",
    "        return self[str(key)]\n",
    "\n",
    "    def __contains__(self, key):\n",
    "        return str(key) in self.data  # <3>\n",
    "\n",
    "    def __setitem__(self, key, item):\n",
    "        self.data[str(key)] = item   # <4>\n",
    "\n",
    "\n",
    "d = StrKeyDict([('2', 'two'), ('4', 'four')])\n",
    "print(d['2'])\n",
    "print(d[4])\n",
    "# print(d[1])\n",
    "\n",
    "print(d.get('2'))\n",
    "print(d.get(4))\n",
    "print(d.get(1, 'N/A'))\n",
    "\n",
    "print(2 in d)\n",
    "print(1 in d)"
   ]
  },
  {
   "cell_type": "code",
   "execution_count": null,
   "metadata": {},
   "outputs": [],
   "source": [
    "# 3-7\n",
    "class StrKeyDict0(dict):  # <1>\n",
    "\n",
    "    def __missing__(self, key):\n",
    "        if isinstance(key, str):  # <2>\n",
    "            raise KeyError(key)\n",
    "        return self[str(key)]  # <3>\n",
    "\n",
    "    def get(self, key, default=None):\n",
    "        try:\n",
    "            return self[key]  # <4>\n",
    "        except KeyError:\n",
    "            return default  # <5>\n",
    "\n",
    "    def __contains__(self, key):\n",
    "        return key in self.keys() or str(key) in self.keys()  # <6>"
   ]
  },
  {
   "cell_type": "code",
   "execution_count": 35,
   "metadata": {},
   "outputs": [
    {
     "name": "stdout",
     "output_type": "stream",
     "text": [
      "Counter({'a': 5, 'b': 2, 'r': 2, 'c': 1, 'd': 1})\n",
      "Counter({'a': 10, 'z': 3, 'b': 2, 'r': 2, 'c': 1, 'd': 1})\n",
      "[('a', 10), ('z', 3)]\n"
     ]
    }
   ],
   "source": [
    "# *\n",
    "ct = collections.Counter('abracadabra')\n",
    "print(ct)\n",
    "\n",
    "ct.update('aaaaazzz')\n",
    "print(ct)\n",
    "\n",
    "print(ct.most_common(2))\n"
   ]
  },
  {
   "cell_type": "code",
   "execution_count": null,
   "metadata": {},
   "outputs": [],
   "source": [
    "# 3-8\n",
    "import collections\n",
    "\n",
    "class StrKeyDict(collections.UserDict):  # <1>\n",
    "\n",
    "    def __missing__(self, key):  # <2>\n",
    "        if isinstance(key, str):\n",
    "            raise KeyError(key)\n",
    "        return self[str(key)]\n",
    "\n",
    "    def __contains__(self, key):\n",
    "        return str(key) in self.data  # <3>\n",
    "\n",
    "    def __setitem__(self, key, item):\n",
    "        self.data[str(key)] = item   # <4>"
   ]
  },
  {
   "cell_type": "code",
   "execution_count": 38,
   "metadata": {},
   "outputs": [
    {
     "name": "stdout",
     "output_type": "stream",
     "text": [
      "{1: 'A'}\n",
      "A\n"
     ]
    },
    {
     "ename": "TypeError",
     "evalue": "'mappingproxy' object does not support item assignment",
     "output_type": "error",
     "traceback": [
      "\u001b[0;31m---------------------------------------------------------------------------\u001b[0m",
      "\u001b[0;31mTypeError\u001b[0m                                 Traceback (most recent call last)",
      "\u001b[1;32m/Users/kjs/Desktop/fluent_python/src/03-dict-set/ex/ex_3.ipynb 셀 12\u001b[0m line \u001b[0;36m7\n\u001b[1;32m      <a href='vscode-notebook-cell:/Users/kjs/Desktop/fluent_python/src/03-dict-set/ex/ex_3.ipynb#X16sZmlsZQ%3D%3D?line=4'>5</a>\u001b[0m \u001b[39mprint\u001b[39m(d_proxy)\n\u001b[1;32m      <a href='vscode-notebook-cell:/Users/kjs/Desktop/fluent_python/src/03-dict-set/ex/ex_3.ipynb#X16sZmlsZQ%3D%3D?line=5'>6</a>\u001b[0m \u001b[39mprint\u001b[39m(d_proxy[\u001b[39m1\u001b[39m])\n\u001b[0;32m----> <a href='vscode-notebook-cell:/Users/kjs/Desktop/fluent_python/src/03-dict-set/ex/ex_3.ipynb#X16sZmlsZQ%3D%3D?line=6'>7</a>\u001b[0m d_proxy[\u001b[39m2\u001b[39;49m] \u001b[39m=\u001b[39m \u001b[39m'\u001b[39m\u001b[39mx\u001b[39m\u001b[39m'\u001b[39m\n",
      "\u001b[0;31mTypeError\u001b[0m: 'mappingproxy' object does not support item assignment"
     ]
    }
   ],
   "source": [
    "# 3-9\n",
    "from types import MappingProxyType\n",
    "d = {1: 'A'}\n",
    "d_proxy = MappingProxyType(d)\n",
    "print(d_proxy)\n",
    "print(d_proxy[1])\n",
    "d_proxy[2] = 'x'\n"
   ]
  },
  {
   "cell_type": "code",
   "execution_count": 39,
   "metadata": {},
   "outputs": [
    {
     "name": "stdout",
     "output_type": "stream",
     "text": [
      "{1: 'A', 2: 'B'}\n",
      "B\n"
     ]
    }
   ],
   "source": [
    "# 3-9\n",
    "d[2] = 'B'\n",
    "print(d_proxy)\n",
    "print(d_proxy[2])"
   ]
  },
  {
   "cell_type": "code",
   "execution_count": 40,
   "metadata": {},
   "outputs": [
    {
     "name": "stdout",
     "output_type": "stream",
     "text": [
      "{'spam', 'eggs'}\n",
      "['spam', 'eggs']\n"
     ]
    }
   ],
   "source": [
    "# *\n",
    "l = ['spam', 'spam', 'eggs', 'spam']\n",
    "print(set(l))\n",
    "print(list(set(l)))"
   ]
  },
  {
   "cell_type": "code",
   "execution_count": null,
   "metadata": {},
   "outputs": [],
   "source": [
    "# 3-10\n",
    "found = len(needles & haystack)\n",
    "\n",
    "# 3-11\n",
    "found = 0\n",
    "for n in needles:\n",
    "    if n in haystack:\n",
    "        found += 1\n",
    "\n",
    "# 3-12\n",
    "# 1.\n",
    "found = len(set(needles) & set(haystack))\n",
    "# 2.\n",
    "found = len(set(needles).intersection(haystack))"
   ]
  },
  {
   "cell_type": "code",
   "execution_count": 43,
   "metadata": {},
   "outputs": [
    {
     "name": "stdout",
     "output_type": "stream",
     "text": [
      "<class 'set'>\n",
      "{1}\n",
      "1\n",
      "set()\n"
     ]
    }
   ],
   "source": [
    "s = {1}\n",
    "print(type(s))\n",
    "print(s)\n",
    "print(s.pop())\n",
    "print(s)"
   ]
  },
  {
   "cell_type": "code",
   "execution_count": 44,
   "metadata": {},
   "outputs": [
    {
     "name": "stdout",
     "output_type": "stream",
     "text": [
      "  1           0 LOAD_CONST               0 (1)\n",
      "              2 BUILD_SET                1\n",
      "              4 RETURN_VALUE\n",
      "None\n",
      "  1           0 LOAD_NAME                0 (set)\n",
      "              2 LOAD_CONST               0 (1)\n",
      "              4 BUILD_LIST               1\n",
      "              6 CALL_FUNCTION            1\n",
      "              8 RETURN_VALUE\n",
      "None\n"
     ]
    }
   ],
   "source": [
    "from dis import dis\n",
    "\n",
    "print(dis('{1}'))\n",
    "\n",
    "print(dis('set([1])'))"
   ]
  },
  {
   "cell_type": "code",
   "execution_count": 45,
   "metadata": {},
   "outputs": [
    {
     "data": {
      "text/plain": [
       "frozenset({0, 1, 2, 3, 4, 5, 6, 7, 8, 9})"
      ]
     },
     "execution_count": 45,
     "metadata": {},
     "output_type": "execute_result"
    }
   ],
   "source": [
    "frozenset(range(10))"
   ]
  },
  {
   "cell_type": "code",
   "execution_count": 46,
   "metadata": {},
   "outputs": [
    {
     "data": {
      "text/plain": [
       "{'#',\n",
       " '$',\n",
       " '%',\n",
       " '+',\n",
       " '<',\n",
       " '=',\n",
       " '>',\n",
       " '¢',\n",
       " '£',\n",
       " '¤',\n",
       " '¥',\n",
       " '§',\n",
       " '©',\n",
       " '¬',\n",
       " '®',\n",
       " '°',\n",
       " '±',\n",
       " 'µ',\n",
       " '¶',\n",
       " '×',\n",
       " '÷'}"
      ]
     },
     "execution_count": 46,
     "metadata": {},
     "output_type": "execute_result"
    }
   ],
   "source": [
    "# 3-13\n",
    "from unicodedata import name\n",
    "\n",
    "{chr(i) for i in range(32, 256) if 'SIGN' in name(chr(i), '')}"
   ]
  },
  {
   "cell_type": "code",
   "execution_count": 47,
   "metadata": {},
   "outputs": [
    {
     "name": "stdout",
     "output_type": "stream",
     "text": [
      "d1: dict_keys([86, 91, 1, 62, 55, 92, 880, 234, 7, 81])\n",
      "d2: dict_keys([1, 7, 55, 62, 81, 86, 91, 92, 234, 880])\n",
      "d3: dict_keys([880, 55, 86, 91, 62, 81, 234, 92, 7, 1])\n"
     ]
    },
    {
     "data": {
      "text/plain": [
       "'\\n# BEGIN DIALCODES_OUTPUT\\nd1: dict_keys([880, 1, 86, 55, 7, 234, 91, 92, 62, 81])\\nd2: dict_keys([880, 1, 91, 86, 81, 55, 234, 7, 92, 62])\\nd3: dict_keys([880, 81, 1, 86, 55, 7, 234, 91, 92, 62])\\n# END DIALCODES_OUTPUT\\n'"
      ]
     },
     "execution_count": 47,
     "metadata": {},
     "output_type": "execute_result"
    }
   ],
   "source": [
    "# 3-17\n",
    "# BEGIN DIALCODES\n",
    "# dial codes of the top 10 most populous countries\n",
    "DIAL_CODES = [\n",
    "        (86, 'China'),\n",
    "        (91, 'India'),\n",
    "        (1, 'United States'),\n",
    "        (62, 'Indonesia'),\n",
    "        (55, 'Brazil'),\n",
    "        (92, 'Pakistan'),\n",
    "        (880, 'Bangladesh'),\n",
    "        (234, 'Nigeria'),\n",
    "        (7, 'Russia'),\n",
    "        (81, 'Japan'),\n",
    "    ]\n",
    "\n",
    "d1 = dict(DIAL_CODES)  # <1>\n",
    "print('d1:', d1.keys())\n",
    "d2 = dict(sorted(DIAL_CODES))  # <2>\n",
    "print('d2:', d2.keys())\n",
    "d3 = dict(sorted(DIAL_CODES, key=lambda x:x[1]))  # <3>\n",
    "print('d3:', d3.keys())\n",
    "assert d1 == d2 and d2 == d3  # <4>\n",
    "# END DIALCODES\n",
    "\"\"\"\n",
    "# BEGIN DIALCODES_OUTPUT\n",
    "d1: dict_keys([880, 1, 86, 55, 7, 234, 91, 92, 62, 81])\n",
    "d2: dict_keys([880, 1, 91, 86, 81, 55, 234, 7, 92, 62])\n",
    "d3: dict_keys([880, 81, 1, 86, 55, 7, 234, 91, 92, 62])\n",
    "# END DIALCODES_OUTPUT\n",
    "\"\"\"\n"
   ]
  }
 ],
 "metadata": {
  "kernelspec": {
   "display_name": "handson_ml",
   "language": "python",
   "name": "python3"
  },
  "language_info": {
   "codemirror_mode": {
    "name": "ipython",
    "version": 3
   },
   "file_extension": ".py",
   "mimetype": "text/x-python",
   "name": "python",
   "nbconvert_exporter": "python",
   "pygments_lexer": "ipython3",
   "version": "3.10.9"
  }
 },
 "nbformat": 4,
 "nbformat_minor": 2
}
