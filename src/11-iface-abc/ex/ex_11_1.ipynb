{
 "cells": [
  {
   "cell_type": "code",
   "execution_count": null,
   "metadata": {},
   "outputs": [],
   "source": [
    "# 11-1"
   ]
  },
  {
   "cell_type": "code",
   "execution_count": null,
   "metadata": {},
   "outputs": [],
   "source": [
    "# 11-2"
   ]
  },
  {
   "cell_type": "code",
   "execution_count": 3,
   "metadata": {},
   "outputs": [
    {
     "name": "stdout",
     "output_type": "stream",
     "text": [
      "10\n",
      "0\n",
      "10\n",
      "20\n",
      "True\n",
      "False\n"
     ]
    }
   ],
   "source": [
    "# 11-3\n",
    "\n",
    "class Foo:\n",
    "    def __getitem__(self, pos):\n",
    "        return range(0, 30, 10)[pos]\n",
    "\n",
    "f = Foo()\n",
    "print(f[1])\n",
    "for i in f: print(i)\n",
    "print(20 in f)\n",
    "print(15 in f)"
   ]
  },
  {
   "cell_type": "code",
   "execution_count": 6,
   "metadata": {},
   "outputs": [],
   "source": [
    "# 11-4\n",
    "\n",
    "import collections\n",
    "\n",
    "Card = collections.namedtuple('Card', ['rank', 'suit'])\n",
    "\n",
    "class FrenchDeck:\n",
    "    ranks = [str(n) for n in range(2, 11)] + list(\"JQKA\")\n",
    "    suits = 'spades diamonds clubs hearts'.split()\n",
    "\n",
    "    def __init__(self):\n",
    "        self._cards = [Card(rank, suit) for suit in self.suits\n",
    "                                        for rank in self.ranks]\n",
    "    \n",
    "    def __len__(self):\n",
    "        return len(self._cards)\n",
    "    \n",
    "    def __getitem__(self, position):\n",
    "        return self._cards[position]"
   ]
  },
  {
   "cell_type": "code",
   "execution_count": 8,
   "metadata": {},
   "outputs": [
    {
     "ename": "TypeError",
     "evalue": "'FrenchDeck' object does not support item assignment",
     "output_type": "error",
     "traceback": [
      "\u001b[0;31m---------------------------------------------------------------------------\u001b[0m",
      "\u001b[0;31mTypeError\u001b[0m                                 Traceback (most recent call last)",
      "Cell \u001b[0;32mIn[8], line 6\u001b[0m\n\u001b[1;32m      3\u001b[0m \u001b[38;5;28;01mfrom\u001b[39;00m \u001b[38;5;21;01mrandom\u001b[39;00m \u001b[38;5;28;01mimport\u001b[39;00m shuffle\n\u001b[1;32m      5\u001b[0m deck \u001b[38;5;241m=\u001b[39m FrenchDeck()\n\u001b[0;32m----> 6\u001b[0m \u001b[43mshuffle\u001b[49m\u001b[43m(\u001b[49m\u001b[43mdeck\u001b[49m\u001b[43m)\u001b[49m\n",
      "File \u001b[0;32m/Library/Frameworks/Python.framework/Versions/3.10/lib/python3.10/random.py:394\u001b[0m, in \u001b[0;36mRandom.shuffle\u001b[0;34m(self, x, random)\u001b[0m\n\u001b[1;32m    391\u001b[0m     \u001b[38;5;28;01mfor\u001b[39;00m i \u001b[38;5;129;01min\u001b[39;00m \u001b[38;5;28mreversed\u001b[39m(\u001b[38;5;28mrange\u001b[39m(\u001b[38;5;241m1\u001b[39m, \u001b[38;5;28mlen\u001b[39m(x))):\n\u001b[1;32m    392\u001b[0m         \u001b[38;5;66;03m# pick an element in x[:i+1] with which to exchange x[i]\u001b[39;00m\n\u001b[1;32m    393\u001b[0m         j \u001b[38;5;241m=\u001b[39m randbelow(i \u001b[38;5;241m+\u001b[39m \u001b[38;5;241m1\u001b[39m)\n\u001b[0;32m--> 394\u001b[0m         x[i], x[j] \u001b[38;5;241m=\u001b[39m x[j], x[i]\n\u001b[1;32m    395\u001b[0m \u001b[38;5;28;01melse\u001b[39;00m:\n\u001b[1;32m    396\u001b[0m     _warn(\u001b[38;5;124m'\u001b[39m\u001b[38;5;124mThe *random* parameter to shuffle() has been deprecated\u001b[39m\u001b[38;5;130;01m\\n\u001b[39;00m\u001b[38;5;124m'\u001b[39m\n\u001b[1;32m    397\u001b[0m           \u001b[38;5;124m'\u001b[39m\u001b[38;5;124msince Python 3.9 and will be removed in a subsequent \u001b[39m\u001b[38;5;124m'\u001b[39m\n\u001b[1;32m    398\u001b[0m           \u001b[38;5;124m'\u001b[39m\u001b[38;5;124mversion.\u001b[39m\u001b[38;5;124m'\u001b[39m,\n\u001b[1;32m    399\u001b[0m           \u001b[38;5;167;01mDeprecationWarning\u001b[39;00m, \u001b[38;5;241m2\u001b[39m)\n",
      "\u001b[0;31mTypeError\u001b[0m: 'FrenchDeck' object does not support item assignment"
     ]
    }
   ],
   "source": [
    "# 11-5\n",
    "\n",
    "from random import shuffle\n",
    "\n",
    "deck = FrenchDeck()\n",
    "shuffle(deck)"
   ]
  },
  {
   "cell_type": "code",
   "execution_count": 9,
   "metadata": {},
   "outputs": [
    {
     "data": {
      "text/plain": [
       "[Card(rank='2', suit='spades'),\n",
       " Card(rank='9', suit='diamonds'),\n",
       " Card(rank='4', suit='diamonds'),\n",
       " Card(rank='J', suit='diamonds'),\n",
       " Card(rank='A', suit='diamonds')]"
      ]
     },
     "execution_count": 9,
     "metadata": {},
     "output_type": "execute_result"
    }
   ],
   "source": [
    "# 11-6\n",
    "\n",
    "def set_card(deck, position, card):\n",
    "    deck._cards[position] = card\n",
    "\n",
    "FrenchDeck.__setitem__ = set_card\n",
    "shuffle(deck)\n",
    "deck[:5]\n",
    "\n"
   ]
  },
  {
   "cell_type": "code",
   "execution_count": null,
   "metadata": {},
   "outputs": [],
   "source": [
    "# 11-7\n",
    "\n",
    "try:\n",
    "    field_names = field_names.replace(',', ' ').split()\n",
    "except AttributeError:\n",
    "    pass\n",
    "field_names = tuple(field_names)"
   ]
  },
  {
   "cell_type": "code",
   "execution_count": 15,
   "metadata": {},
   "outputs": [],
   "source": [
    "# 11-8\n",
    "\n",
    "import collections\n",
    "\n",
    "Card = collections.namedtuple('Card', ['rank', 'suit'])\n",
    "\n",
    "class FrenchDeck2(collections.abc.MutableSequence):\n",
    "    ranks = [str(n) for n in range(2, 11)] + list('JQKA')\n",
    "    suits = 'spades diamonds clubs hearts'.split()\n",
    "\n",
    "    def __init__(self):\n",
    "        self._cards = [Card(rank, suit) for suit in self.suits\n",
    "                                        for rank in self.ranks]\n",
    "\n",
    "    def __len__(self):\n",
    "        return len(self._cards)\n",
    "\n",
    "    def __getitem__(self, position):\n",
    "        return self._cards[position]\n",
    "\n",
    "    def __setitem__(self, position, value):  # <1>\n",
    "        self._cards[position] = value\n",
    "\n",
    "    def __delitem__(self, position):  # <2>\n",
    "        del self._cards[position]\n",
    "\n",
    "    def insert(self, position, value):  # <3>\n",
    "        self._cards.insert(position, value)\n",
    "        \n",
    "f = FrenchDeck2()\n"
   ]
  },
  {
   "cell_type": "code",
   "execution_count": 17,
   "metadata": {},
   "outputs": [],
   "source": [
    "# 11-9\n",
    "\n",
    "# BEGIN TOMBOLA_ABC\n",
    "\n",
    "import abc\n",
    "\n",
    "class Tombola(abc.ABC):  # <1>\n",
    "\n",
    "    @abc.abstractmethod\n",
    "    def load(self, iterable):  # <2>\n",
    "        \"\"\"Add items from an iterable.\"\"\"\n",
    "\n",
    "    @abc.abstractmethod\n",
    "    def pick(self):  # <3>\n",
    "        \"\"\"Remove item at random, returning it.\n",
    "\n",
    "        This method should raise `LookupError` when the instance is empty.\n",
    "        \"\"\"\n",
    "\n",
    "    def loaded(self):  # <4>\n",
    "        \"\"\"Return `True` if there's at least 1 item, `False` otherwise.\"\"\"\n",
    "        return bool(self.inspect())  # <5>\n",
    "\n",
    "\n",
    "    def inspect(self):\n",
    "        \"\"\"Return a sorted tuple with the items currently inside.\"\"\"\n",
    "        items = []\n",
    "        while True:  # <6>\n",
    "            try:\n",
    "                items.append(self.pick())\n",
    "            except LookupError:\n",
    "                break\n",
    "        self.load(items)  # <7>\n",
    "        return tuple(sorted(items))\n",
    "\n",
    "\n",
    "# END TOMBOLA_ABC"
   ]
  },
  {
   "cell_type": "code",
   "execution_count": null,
   "metadata": {},
   "outputs": [],
   "source": [
    "# 11-10\n",
    "\n",
    "# 책 참고"
   ]
  },
  {
   "cell_type": "code",
   "execution_count": 19,
   "metadata": {},
   "outputs": [
    {
     "name": "stdout",
     "output_type": "stream",
     "text": [
      "<class '__main__.Fake'>\n"
     ]
    },
    {
     "ename": "TypeError",
     "evalue": "Can't instantiate abstract class Fake with abstract method load",
     "output_type": "error",
     "traceback": [
      "\u001b[0;31m---------------------------------------------------------------------------\u001b[0m",
      "\u001b[0;31mTypeError\u001b[0m                                 Traceback (most recent call last)",
      "Cell \u001b[0;32mIn[19], line 8\u001b[0m\n\u001b[1;32m      5\u001b[0m         \u001b[38;5;28;01mreturn\u001b[39;00m \u001b[38;5;241m13\u001b[39m\n\u001b[1;32m      7\u001b[0m \u001b[38;5;28mprint\u001b[39m(Fake)\n\u001b[0;32m----> 8\u001b[0m f \u001b[38;5;241m=\u001b[39m \u001b[43mFake\u001b[49m\u001b[43m(\u001b[49m\u001b[43m)\u001b[49m\n",
      "\u001b[0;31mTypeError\u001b[0m: Can't instantiate abstract class Fake with abstract method load"
     ]
    }
   ],
   "source": [
    "# 11-11\n",
    "\n",
    "class Fake(Tombola):\n",
    "    def pick(self):\n",
    "        return 13\n",
    "    \n",
    "print(Fake)\n",
    "f = Fake()"
   ]
  },
  {
   "cell_type": "code",
   "execution_count": 21,
   "metadata": {},
   "outputs": [],
   "source": [
    "# 11-12\n",
    "\n",
    "import random\n",
    "\n",
    "class BingoCage(Tombola):\n",
    "\n",
    "    def __init__(self, items):\n",
    "        self._randomizer = random.SystemRandom()\n",
    "        self._items = []\n",
    "        self.load(items)\n",
    "    \n",
    "    def load(self, items):\n",
    "        self._items.extend(items)\n",
    "        self._randomizer.shuffle(self._items)\n",
    "    \n",
    "    def pick(self):\n",
    "        try:\n",
    "            return self._items.pop()\n",
    "        except IndexError:\n",
    "            raise LookupError('pick from empty BingoCage')\n",
    "    \n",
    "    def __call__(self):\n",
    "        self.pick()"
   ]
  },
  {
   "cell_type": "code",
   "execution_count": 22,
   "metadata": {},
   "outputs": [],
   "source": [
    "# 11-13\n",
    "\n",
    "class LotteryBlower(Tombola):\n",
    "\n",
    "    def __init__(self, iterable):\n",
    "        self._balls = list(iterable)\n",
    "    \n",
    "    def load(self, iterable):\n",
    "        self._balls.extend(iterable)\n",
    "\n",
    "    def pick(self):\n",
    "        try:\n",
    "            position = random.randrange(len(self._balls))\n",
    "        except ValueError:\n",
    "            raise LookupError('pick from empty BingoCage')\n",
    "        return self._balls.pop(position)\n",
    "    \n",
    "    def loaded(self):\n",
    "        return bool(self._balls)\n",
    "    \n",
    "    def inspect(self):\n",
    "        return tuple(sorted(self._balls))"
   ]
  },
  {
   "cell_type": "code",
   "execution_count": 23,
   "metadata": {},
   "outputs": [],
   "source": [
    "# 11-14\n",
    "\n",
    "from random import randrange\n",
    "\n",
    "@Tombola.register  # <1>\n",
    "class TomboList(list):  # <2>\n",
    "\n",
    "    def pick(self):\n",
    "        if self:  # <3>\n",
    "            position = randrange(len(self))\n",
    "            return self.pop(position)  # <4>\n",
    "        else:\n",
    "            raise LookupError('pop from empty TomboList')\n",
    "\n",
    "    load = list.extend  # <5>\n",
    "\n",
    "    def loaded(self):\n",
    "        return bool(self)  # <6>\n",
    "\n",
    "    def inspect(self):\n",
    "        return tuple(sorted(self))\n",
    "\n",
    "# Tombola.register(TomboList)  # <7>\n"
   ]
  },
  {
   "cell_type": "code",
   "execution_count": 25,
   "metadata": {},
   "outputs": [
    {
     "name": "stdout",
     "output_type": "stream",
     "text": [
      "True\n"
     ]
    },
    {
     "data": {
      "text/plain": [
       "True"
      ]
     },
     "execution_count": 25,
     "metadata": {},
     "output_type": "execute_result"
    }
   ],
   "source": [
    "print(issubclass(TomboList, Tombola))\n",
    "\n",
    "t = TomboList(range(100))\n",
    "\n",
    "isinstance(t, Tombola)"
   ]
  },
  {
   "cell_type": "code",
   "execution_count": 26,
   "metadata": {},
   "outputs": [
    {
     "data": {
      "text/plain": [
       "(__main__.TomboList, list, object)"
      ]
     },
     "execution_count": 26,
     "metadata": {},
     "output_type": "execute_result"
    }
   ],
   "source": [
    "TomboList.__mro__"
   ]
  },
  {
   "cell_type": "code",
   "execution_count": 32,
   "metadata": {},
   "outputs": [
    {
     "name": "stdout",
     "output_type": "stream",
     "text": [
      "Class: __main__.Tombola\n",
      "Inv. counter: 49\n",
      "_abc_registry: {<weakref at 0x1077fd0d0; to 'type' at 0x10b0c2b30 (TomboList)>}\n",
      "_abc_cache: set()\n",
      "_abc_negative_cache: set()\n",
      "_abc_negative_cache_version: 49\n"
     ]
    },
    {
     "ename": "AttributeError",
     "evalue": "'NoneType' object has no attribute '_abc_register'",
     "output_type": "error",
     "traceback": [
      "\u001b[0;31m---------------------------------------------------------------------------\u001b[0m",
      "\u001b[0;31mAttributeError\u001b[0m                            Traceback (most recent call last)",
      "Cell \u001b[0;32mIn[32], line 26\u001b[0m\n\u001b[1;32m     23\u001b[0m     \u001b[38;5;28mprint\u001b[39m(TEST_MSG\u001b[38;5;241m.\u001b[39mformat(\u001b[38;5;28mcls\u001b[39m\u001b[38;5;241m.\u001b[39m\u001b[38;5;18m__name__\u001b[39m, res, tag))\n\u001b[1;32m     25\u001b[0m \u001b[38;5;28;01mimport\u001b[39;00m \u001b[38;5;21;01msys\u001b[39;00m\n\u001b[0;32m---> 26\u001b[0m \u001b[43mmain\u001b[49m\u001b[43m(\u001b[49m\u001b[43msys\u001b[49m\u001b[38;5;241;43m.\u001b[39;49m\u001b[43margv\u001b[49m\u001b[43m)\u001b[49m\n",
      "Cell \u001b[0;32mIn[32], line 11\u001b[0m, in \u001b[0;36mmain\u001b[0;34m(argv)\u001b[0m\n\u001b[1;32m      9\u001b[0m verbose \u001b[38;5;241m=\u001b[39m \u001b[38;5;124m'\u001b[39m\u001b[38;5;124m-v\u001b[39m\u001b[38;5;124m'\u001b[39m \u001b[38;5;129;01min\u001b[39;00m argv\n\u001b[1;32m     10\u001b[0m real_subclasses \u001b[38;5;241m=\u001b[39m Tombola\u001b[38;5;241m.\u001b[39m__subclasses__()\n\u001b[0;32m---> 11\u001b[0m virtual_subclasses \u001b[38;5;241m=\u001b[39m \u001b[38;5;28mlist\u001b[39m(\u001b[43mTombola\u001b[49m\u001b[38;5;241;43m.\u001b[39;49m\u001b[43m_dump_registry\u001b[49m\u001b[43m(\u001b[49m\u001b[43m)\u001b[49m\u001b[38;5;241;43m.\u001b[39;49m\u001b[43m_abc_register\u001b[49m())\n\u001b[1;32m     13\u001b[0m \u001b[38;5;28;01mfor\u001b[39;00m \u001b[38;5;28mcls\u001b[39m \u001b[38;5;129;01min\u001b[39;00m real_subclasses \u001b[38;5;241m+\u001b[39m virtual_subclasses:\n\u001b[1;32m     14\u001b[0m     test(\u001b[38;5;28mcls\u001b[39m, verbose)\n",
      "\u001b[0;31mAttributeError\u001b[0m: 'NoneType' object has no attribute '_abc_register'"
     ]
    }
   ],
   "source": [
    "# 11-15\n",
    "\n",
    "import doctest\n",
    "\n",
    "TEST_FILE = \"/Users/kjs/Desktop/fluent_python/src/11-iface-abc/tombola_tests.rst\"\n",
    "TEST_MSG = '{0:16} {1.attempted:2} tests, {1.failed:2} failed - {2}'\n",
    "\n",
    "def main(argv):\n",
    "    verbose = '-v' in argv\n",
    "    real_subclasses = Tombola.__subclasses__()\n",
    "    virtual_subclasses = list(Tombola._dump_registry())\n",
    "\n",
    "    for cls in real_subclasses + virtual_subclasses:\n",
    "        test(cls, verbose)\n",
    "\n",
    "def test(cls, verbose=False):\n",
    "    res = doctest.testfile(\n",
    "        TEST_FILE,\n",
    "        globs={'ConcreteTombola': cls},\n",
    "        verbose=verbose,\n",
    "        optionflags=doctest.REPORT_ONLY_FIRST_FAILURE)\n",
    "    tag = 'FAIL' if res.failed else 'OK'\n",
    "    print(TEST_MSG.format(cls.__name__, res, tag))\n",
    "\n",
    "import sys\n",
    "main(sys.argv)"
   ]
  },
  {
   "cell_type": "code",
   "execution_count": null,
   "metadata": {},
   "outputs": [],
   "source": [
    "# 11-16, 11-17 생략"
   ]
  },
  {
   "cell_type": "code",
   "execution_count": null,
   "metadata": {},
   "outputs": [],
   "source": []
  },
  {
   "cell_type": "code",
   "execution_count": null,
   "metadata": {},
   "outputs": [],
   "source": []
  },
  {
   "cell_type": "code",
   "execution_count": null,
   "metadata": {},
   "outputs": [],
   "source": []
  },
  {
   "cell_type": "code",
   "execution_count": null,
   "metadata": {},
   "outputs": [],
   "source": []
  },
  {
   "cell_type": "code",
   "execution_count": null,
   "metadata": {},
   "outputs": [],
   "source": []
  },
  {
   "cell_type": "code",
   "execution_count": null,
   "metadata": {},
   "outputs": [],
   "source": []
  },
  {
   "cell_type": "code",
   "execution_count": null,
   "metadata": {},
   "outputs": [],
   "source": []
  },
  {
   "cell_type": "code",
   "execution_count": null,
   "metadata": {},
   "outputs": [],
   "source": []
  },
  {
   "cell_type": "code",
   "execution_count": null,
   "metadata": {},
   "outputs": [],
   "source": []
  },
  {
   "cell_type": "code",
   "execution_count": null,
   "metadata": {},
   "outputs": [],
   "source": []
  }
 ],
 "metadata": {
  "kernelspec": {
   "display_name": "env",
   "language": "python",
   "name": "python3"
  },
  "language_info": {
   "codemirror_mode": {
    "name": "ipython",
    "version": 3
   },
   "file_extension": ".py",
   "mimetype": "text/x-python",
   "name": "python",
   "nbconvert_exporter": "python",
   "pygments_lexer": "ipython3",
   "version": "3.10.9"
  }
 },
 "nbformat": 4,
 "nbformat_minor": 2
}
